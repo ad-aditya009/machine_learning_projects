{
 "cells": [
  {
   "cell_type": "code",
   "execution_count": 1,
   "metadata": {},
   "outputs": [
    {
     "data": {
      "text/html": [
       "<div>\n",
       "<style scoped>\n",
       "    .dataframe tbody tr th:only-of-type {\n",
       "        vertical-align: middle;\n",
       "    }\n",
       "\n",
       "    .dataframe tbody tr th {\n",
       "        vertical-align: top;\n",
       "    }\n",
       "\n",
       "    .dataframe thead th {\n",
       "        text-align: right;\n",
       "    }\n",
       "</style>\n",
       "<table border=\"1\" class=\"dataframe\">\n",
       "  <thead>\n",
       "    <tr style=\"text-align: right;\">\n",
       "      <th></th>\n",
       "      <th>article_link</th>\n",
       "      <th>headline</th>\n",
       "      <th>is_sarcastic</th>\n",
       "      <th>source</th>\n",
       "    </tr>\n",
       "  </thead>\n",
       "  <tbody>\n",
       "    <tr>\n",
       "      <th>0</th>\n",
       "      <td>https://www.huffingtonpost.com/entry/versace-black-code_us_5861fbefe4b0de3a08f600d5</td>\n",
       "      <td>former versace store clerk sues over secret 'black code' for minority shoppers</td>\n",
       "      <td>0</td>\n",
       "      <td>huffingtonpost</td>\n",
       "    </tr>\n",
       "    <tr>\n",
       "      <th>1</th>\n",
       "      <td>https://www.huffingtonpost.com/entry/roseanne-revival-review_us_5ab3a497e4b054d118e04365</td>\n",
       "      <td>the 'roseanne' revival catches up to our thorny political mood, for better and worse</td>\n",
       "      <td>0</td>\n",
       "      <td>huffingtonpost</td>\n",
       "    </tr>\n",
       "    <tr>\n",
       "      <th>2</th>\n",
       "      <td>https://local.theonion.com/mom-starting-to-fear-son-s-web-series-closest-thing-she-1819576697</td>\n",
       "      <td>mom starting to fear son's web series closest thing she will have to grandchild</td>\n",
       "      <td>1</td>\n",
       "      <td>theonion</td>\n",
       "    </tr>\n",
       "    <tr>\n",
       "      <th>3</th>\n",
       "      <td>https://politics.theonion.com/boehner-just-wants-wife-to-listen-not-come-up-with-alt-1819574302</td>\n",
       "      <td>boehner just wants wife to listen, not come up with alternative debt-reduction ideas</td>\n",
       "      <td>1</td>\n",
       "      <td>theonion</td>\n",
       "    </tr>\n",
       "    <tr>\n",
       "      <th>4</th>\n",
       "      <td>https://www.huffingtonpost.com/entry/jk-rowling-wishes-snape-happy-birthday_us_569117c4e4b0cad15e64fdcb</td>\n",
       "      <td>j.k. rowling wishes snape happy birthday in the most magical way</td>\n",
       "      <td>0</td>\n",
       "      <td>huffingtonpost</td>\n",
       "    </tr>\n",
       "  </tbody>\n",
       "</table>\n",
       "</div>"
      ],
      "text/plain": [
       "                                                                                              article_link  \\\n",
       "0  https://www.huffingtonpost.com/entry/versace-black-code_us_5861fbefe4b0de3a08f600d5                       \n",
       "1  https://www.huffingtonpost.com/entry/roseanne-revival-review_us_5ab3a497e4b054d118e04365                  \n",
       "2  https://local.theonion.com/mom-starting-to-fear-son-s-web-series-closest-thing-she-1819576697             \n",
       "3  https://politics.theonion.com/boehner-just-wants-wife-to-listen-not-come-up-with-alt-1819574302           \n",
       "4  https://www.huffingtonpost.com/entry/jk-rowling-wishes-snape-happy-birthday_us_569117c4e4b0cad15e64fdcb   \n",
       "\n",
       "                                                                               headline  \\\n",
       "0  former versace store clerk sues over secret 'black code' for minority shoppers         \n",
       "1  the 'roseanne' revival catches up to our thorny political mood, for better and worse   \n",
       "2  mom starting to fear son's web series closest thing she will have to grandchild        \n",
       "3  boehner just wants wife to listen, not come up with alternative debt-reduction ideas   \n",
       "4  j.k. rowling wishes snape happy birthday in the most magical way                       \n",
       "\n",
       "   is_sarcastic          source  \n",
       "0  0             huffingtonpost  \n",
       "1  0             huffingtonpost  \n",
       "2  1             theonion        \n",
       "3  1             theonion        \n",
       "4  0             huffingtonpost  "
      ]
     },
     "execution_count": 1,
     "metadata": {},
     "output_type": "execute_result"
    }
   ],
   "source": [
    "import pandas as pd\n",
    "pd.set_option('display.max_colwidth', -1)\n",
    "path = '/home/ad/Documents/Deep_learning_project/'\n",
    "sar_acc = pd.read_json(path+ 'Sarcasm_Headlines_Dataset.json',lines=True)\n",
    "import re\n",
    "sar_acc['source'] = sar_acc['article_link'].apply(lambda x: re.findall(r'\\w+', x)[2])\n",
    "sar_acc.head()\n"
   ]
  },
  {
   "cell_type": "code",
   "execution_count": 2,
   "metadata": {},
   "outputs": [
    {
     "data": {
      "text/html": [
       "<script type=\"text/javascript\">window.PlotlyConfig = {MathJaxConfig: 'local'};</script><script type=\"text/javascript\">if (window.MathJax) {MathJax.Hub.Config({SVG: {font: \"STIX-Web\"}});}</script><script>requirejs.config({paths: { 'plotly': ['https://cdn.plot.ly/plotly-latest.min']},});if(!window._Plotly) {require(['plotly'],function(plotly) {window._Plotly=plotly;});}</script>"
      ],
      "text/vnd.plotly.v1+html": [
       "<script type=\"text/javascript\">window.PlotlyConfig = {MathJaxConfig: 'local'};</script><script type=\"text/javascript\">if (window.MathJax) {MathJax.Hub.Config({SVG: {font: \"STIX-Web\"}});}</script><script>requirejs.config({paths: { 'plotly': ['https://cdn.plot.ly/plotly-latest.min']},});if(!window._Plotly) {require(['plotly'],function(plotly) {window._Plotly=plotly;});}</script>"
      ]
     },
     "metadata": {},
     "output_type": "display_data"
    },
    {
     "data": {
      "application/vnd.plotly.v1+json": {
       "config": {
        "linkText": "Export to plot.ly",
        "plotlyServerURL": "https://plot.ly",
        "showLink": false
       },
       "data": [
        {
         "hoverinfo": "label+percent",
         "labels": [
          "Acclaim",
          "Sarcastic"
         ],
         "marker": {
          "colors": [
           "#58D68D",
           "#9B59B6"
          ],
          "line": {
           "color": "#FFFFFF",
           "width": 2
          }
         },
         "opacity": 0.8,
         "type": "pie",
         "uid": "c7b062bb-4021-4ee1-a52a-255fc64b6e72",
         "values": [
          56.10468381444457,
          43.89531618555543
         ]
        }
       ],
       "layout": {
        "title": {
         "text": "Sarcastic Vs Acclaim"
        }
       }
      },
      "text/html": [
       "<div id=\"d30c8023-f6c5-4b10-95e1-e78204d353b7\" style=\"height: 525px; width: 100%;\" class=\"plotly-graph-div\"></div><script type=\"text/javascript\">require([\"plotly\"], function(Plotly) { window.PLOTLYENV=window.PLOTLYENV || {};window.PLOTLYENV.BASE_URL=\"https://plot.ly\";Plotly.newPlot(\"d30c8023-f6c5-4b10-95e1-e78204d353b7\", [{\"hoverinfo\": \"label+percent\", \"labels\": [\"Acclaim\", \"Sarcastic\"], \"marker\": {\"colors\": [\"#58D68D\", \"#9B59B6\"], \"line\": {\"color\": \"#FFFFFF\", \"width\": 2}}, \"opacity\": 0.8, \"values\": [56.10468381444457, 43.89531618555543], \"type\": \"pie\", \"uid\": \"c7b062bb-4021-4ee1-a52a-255fc64b6e72\"}], {\"title\": {\"text\": \"Sarcastic Vs Acclaim\"}}, {\"showLink\": false, \"linkText\": \"Export to plot.ly\", \"plotlyServerURL\": \"https://plot.ly\"})});</script><script type=\"text/javascript\">window.addEventListener(\"resize\", function(){window._Plotly.Plots.resize(document.getElementById(\"d30c8023-f6c5-4b10-95e1-e78204d353b7\"));});</script>"
      ],
      "text/vnd.plotly.v1+html": [
       "<div id=\"d30c8023-f6c5-4b10-95e1-e78204d353b7\" style=\"height: 525px; width: 100%;\" class=\"plotly-graph-div\"></div><script type=\"text/javascript\">require([\"plotly\"], function(Plotly) { window.PLOTLYENV=window.PLOTLYENV || {};window.PLOTLYENV.BASE_URL=\"https://plot.ly\";Plotly.newPlot(\"d30c8023-f6c5-4b10-95e1-e78204d353b7\", [{\"hoverinfo\": \"label+percent\", \"labels\": [\"Acclaim\", \"Sarcastic\"], \"marker\": {\"colors\": [\"#58D68D\", \"#9B59B6\"], \"line\": {\"color\": \"#FFFFFF\", \"width\": 2}}, \"opacity\": 0.8, \"values\": [56.10468381444457, 43.89531618555543], \"type\": \"pie\", \"uid\": \"c7b062bb-4021-4ee1-a52a-255fc64b6e72\"}], {\"title\": {\"text\": \"Sarcastic Vs Acclaim\"}}, {\"showLink\": false, \"linkText\": \"Export to plot.ly\", \"plotlyServerURL\": \"https://plot.ly\"})});</script><script type=\"text/javascript\">window.addEventListener(\"resize\", function(){window._Plotly.Plots.resize(document.getElementById(\"d30c8023-f6c5-4b10-95e1-e78204d353b7\"));});</script>"
      ]
     },
     "metadata": {},
     "output_type": "display_data"
    }
   ],
   "source": [
    "import numpy as np\n",
    "import plotly.plotly as py\n",
    "import plotly.graph_objs as go\n",
    "from plotly.offline import download_plotlyjs, init_notebook_mode, plot, iplot\n",
    "init_notebook_mode(connected=True)\n",
    "\n",
    "sar_acc_tar = sar_acc['is_sarcastic'].value_counts()\n",
    "labels = ['Acclaim', 'Sarcastic']\n",
    "sizes = (np.array((sar_acc_tar / sar_acc_tar.sum())*100))\n",
    "colors = ['#58D68D', '#9B59B6']\n",
    "\n",
    "trace = go.Pie(labels=labels, values=sizes, opacity = 0.8, hoverinfo='label+percent',\n",
    "               marker=dict(colors=colors, line=dict(color='#FFFFFF', width=2)))\n",
    "layout = go.Layout(\n",
    "    title='Sarcastic Vs Acclaim'\n",
    ")\n",
    "data = [trace]\n",
    "fig = go.Figure(data=data, layout=layout)\n",
    "iplot(fig, filename=\"Sa_Ac\")"
   ]
  },
  {
   "cell_type": "code",
   "execution_count": 3,
   "metadata": {},
   "outputs": [
    {
     "data": {
      "application/vnd.plotly.v1+json": {
       "config": {
        "linkText": "Export to plot.ly",
        "plotlyServerURL": "https://plot.ly",
        "showLink": false
       },
       "data": [
        {
         "marker": {
          "color": [
           5177,
           4170,
           3297,
           2961,
           2371,
           1885,
           1797,
           1666,
           1485,
           1229,
           1221,
           1189,
           1157,
           1051,
           914,
           885,
           882,
           838,
           812,
           802,
           773,
           770,
           753,
           731,
           723,
           699,
           648,
           648,
           630,
           613,
           578,
           570,
           564,
           559,
           551,
           531,
           524,
           513,
           489,
           489,
           487,
           484,
           468,
           466,
           450,
           438,
           420,
           410,
           391,
           389,
           388,
           387,
           385,
           384,
           382,
           369,
           368,
           345,
           341,
           336,
           334,
           326,
           325,
           323,
           320,
           320,
           319,
           314,
           312,
           310,
           301,
           294,
           290,
           288,
           286,
           284,
           281,
           279,
           276,
           271,
           265,
           257,
           257,
           254,
           253,
           249,
           245,
           244,
           244,
           238,
           235,
           231,
           230,
           229,
           228,
           228,
           227,
           226
          ],
          "colorscale": "Viridis"
         },
         "text": "Word counts",
         "type": "bar",
         "uid": "eb94efed-5bb3-4596-837e-9411813bac08",
         "x": [
          "the",
          "in",
          "for",
          "a",
          "on",
          "and",
          "with",
          "is",
          "new",
          "man",
          "from",
          "at",
          "trump",
          "about",
          "you",
          "by",
          "this",
          "after",
          "be",
          "how",
          "out",
          "as",
          "that",
          "up",
          "it",
          "not",
          "your",
          "are",
          "his",
          "what",
          "he",
          "just",
          "who",
          "has",
          "will",
          "more",
          "all",
          "into",
          "have",
          "why",
          "one",
          "area",
          "donald",
          "over",
          "says",
          "can",
          "woman",
          "u.s."
         ],
         "y": [
          5177,
          4170,
          3297,
          2961,
          2371,
          1885,
          1797,
          1666,
          1485,
          1229,
          1221,
          1189,
          1157,
          1051,
          914,
          885,
          882,
          838,
          812,
          802,
          773,
          770,
          753,
          731,
          723,
          699,
          648,
          648,
          630,
          613,
          578,
          570,
          564,
          559,
          551,
          531,
          524,
          513,
          489,
          489,
          487,
          484,
          468,
          466,
          450,
          438,
          420,
          410
         ]
        }
       ],
       "layout": {
        "title": {
         "text": "Frequent Occuring word (unclean) in Headlines"
        }
       }
      },
      "text/html": [
       "<div id=\"36693476-e56a-4b24-96c9-9655618859ab\" style=\"height: 525px; width: 100%;\" class=\"plotly-graph-div\"></div><script type=\"text/javascript\">require([\"plotly\"], function(Plotly) { window.PLOTLYENV=window.PLOTLYENV || {};window.PLOTLYENV.BASE_URL=\"https://plot.ly\";Plotly.newPlot(\"36693476-e56a-4b24-96c9-9655618859ab\", [{\"marker\": {\"color\": [5177, 4170, 3297, 2961, 2371, 1885, 1797, 1666, 1485, 1229, 1221, 1189, 1157, 1051, 914, 885, 882, 838, 812, 802, 773, 770, 753, 731, 723, 699, 648, 648, 630, 613, 578, 570, 564, 559, 551, 531, 524, 513, 489, 489, 487, 484, 468, 466, 450, 438, 420, 410, 391, 389, 388, 387, 385, 384, 382, 369, 368, 345, 341, 336, 334, 326, 325, 323, 320, 320, 319, 314, 312, 310, 301, 294, 290, 288, 286, 284, 281, 279, 276, 271, 265, 257, 257, 254, 253, 249, 245, 244, 244, 238, 235, 231, 230, 229, 228, 228, 227, 226], \"colorscale\": \"Viridis\"}, \"text\": \"Word counts\", \"x\": [\"the\", \"in\", \"for\", \"a\", \"on\", \"and\", \"with\", \"is\", \"new\", \"man\", \"from\", \"at\", \"trump\", \"about\", \"you\", \"by\", \"this\", \"after\", \"be\", \"how\", \"out\", \"as\", \"that\", \"up\", \"it\", \"not\", \"your\", \"are\", \"his\", \"what\", \"he\", \"just\", \"who\", \"has\", \"will\", \"more\", \"all\", \"into\", \"have\", \"why\", \"one\", \"area\", \"donald\", \"over\", \"says\", \"can\", \"woman\", \"u.s.\"], \"y\": [5177, 4170, 3297, 2961, 2371, 1885, 1797, 1666, 1485, 1229, 1221, 1189, 1157, 1051, 914, 885, 882, 838, 812, 802, 773, 770, 753, 731, 723, 699, 648, 648, 630, 613, 578, 570, 564, 559, 551, 531, 524, 513, 489, 489, 487, 484, 468, 466, 450, 438, 420, 410], \"type\": \"bar\", \"uid\": \"eb94efed-5bb3-4596-837e-9411813bac08\"}], {\"title\": {\"text\": \"Frequent Occuring word (unclean) in Headlines\"}}, {\"showLink\": false, \"linkText\": \"Export to plot.ly\", \"plotlyServerURL\": \"https://plot.ly\"})});</script><script type=\"text/javascript\">window.addEventListener(\"resize\", function(){window._Plotly.Plots.resize(document.getElementById(\"36693476-e56a-4b24-96c9-9655618859ab\"));});</script>"
      ],
      "text/vnd.plotly.v1+html": [
       "<div id=\"36693476-e56a-4b24-96c9-9655618859ab\" style=\"height: 525px; width: 100%;\" class=\"plotly-graph-div\"></div><script type=\"text/javascript\">require([\"plotly\"], function(Plotly) { window.PLOTLYENV=window.PLOTLYENV || {};window.PLOTLYENV.BASE_URL=\"https://plot.ly\";Plotly.newPlot(\"36693476-e56a-4b24-96c9-9655618859ab\", [{\"marker\": {\"color\": [5177, 4170, 3297, 2961, 2371, 1885, 1797, 1666, 1485, 1229, 1221, 1189, 1157, 1051, 914, 885, 882, 838, 812, 802, 773, 770, 753, 731, 723, 699, 648, 648, 630, 613, 578, 570, 564, 559, 551, 531, 524, 513, 489, 489, 487, 484, 468, 466, 450, 438, 420, 410, 391, 389, 388, 387, 385, 384, 382, 369, 368, 345, 341, 336, 334, 326, 325, 323, 320, 320, 319, 314, 312, 310, 301, 294, 290, 288, 286, 284, 281, 279, 276, 271, 265, 257, 257, 254, 253, 249, 245, 244, 244, 238, 235, 231, 230, 229, 228, 228, 227, 226], \"colorscale\": \"Viridis\"}, \"text\": \"Word counts\", \"x\": [\"the\", \"in\", \"for\", \"a\", \"on\", \"and\", \"with\", \"is\", \"new\", \"man\", \"from\", \"at\", \"trump\", \"about\", \"you\", \"by\", \"this\", \"after\", \"be\", \"how\", \"out\", \"as\", \"that\", \"up\", \"it\", \"not\", \"your\", \"are\", \"his\", \"what\", \"he\", \"just\", \"who\", \"has\", \"will\", \"more\", \"all\", \"into\", \"have\", \"why\", \"one\", \"area\", \"donald\", \"over\", \"says\", \"can\", \"woman\", \"u.s.\"], \"y\": [5177, 4170, 3297, 2961, 2371, 1885, 1797, 1666, 1485, 1229, 1221, 1189, 1157, 1051, 914, 885, 882, 838, 812, 802, 773, 770, 753, 731, 723, 699, 648, 648, 630, 613, 578, 570, 564, 559, 551, 531, 524, 513, 489, 489, 487, 484, 468, 466, 450, 438, 420, 410], \"type\": \"bar\", \"uid\": \"eb94efed-5bb3-4596-837e-9411813bac08\"}], {\"title\": {\"text\": \"Frequent Occuring word (unclean) in Headlines\"}}, {\"showLink\": false, \"linkText\": \"Export to plot.ly\", \"plotlyServerURL\": \"https://plot.ly\"})});</script><script type=\"text/javascript\">window.addEventListener(\"resize\", function(){window._Plotly.Plots.resize(document.getElementById(\"36693476-e56a-4b24-96c9-9655618859ab\"));});</script>"
      ]
     },
     "metadata": {},
     "output_type": "display_data"
    }
   ],
   "source": [
    "all_words = sar_acc['headline'].str.split(expand=True).unstack().value_counts()\n",
    "data = [go.Bar(\n",
    "            x = all_words.index.values[2:50],\n",
    "            y = all_words.values[2:50],\n",
    "            marker= dict(colorscale='Viridis',\n",
    "                         color = all_words.values[2:100]\n",
    "                        ),\n",
    "            text='Word counts'\n",
    "    )]\n",
    "\n",
    "layout = go.Layout(\n",
    "    title='Frequent Occuring word (unclean) in Headlines'\n",
    ")\n",
    "\n",
    "fig = go.Figure(data=data, layout=layout)\n",
    "\n",
    "iplot(fig, filename='basic-bar')"
   ]
  },
  {
   "cell_type": "code",
   "execution_count": 4,
   "metadata": {},
   "outputs": [],
   "source": [
    "sar_det = sar_acc[sar_acc.is_sarcastic==1]\n",
    "sar_det.reset_index(drop=True, inplace=True)\n",
    "acc_det = sar_acc[sar_acc.is_sarcastic==0]\n",
    "acc_det.reset_index(drop=True, inplace=True)\n",
    "\n",
    "# Tokenizing the Headlines of Sarcasm\n",
    "sar_news = []\n",
    "for rows in range(0, sar_det.shape[0]):\n",
    "    head_txt = sar_det.headline[rows]\n",
    "    head_txt = head_txt.split(\" \")\n",
    "    sar_news.append(head_txt)\n",
    "\n",
    "#Converting into single list for Sarcasm\n",
    "import itertools\n",
    "sar_list = list(itertools.chain(*sar_news))\n",
    "\n",
    "# Tokenizing the Headlines of Acclaim\n",
    "acc_news = []\n",
    "for rows in range(0, acc_det.shape[0]):\n",
    "    head_txt = acc_det.headline[rows]\n",
    "    head_txt = head_txt.split(\" \")\n",
    "    acc_news.append(head_txt)\n",
    "    \n",
    "#Converting into single list for Acclaim\n",
    "acc_list = list(itertools.chain(*acc_news))\n"
   ]
  },
  {
   "cell_type": "code",
   "execution_count": 5,
   "metadata": {},
   "outputs": [
    {
     "name": "stdout",
     "output_type": "stream",
     "text": [
      "Length of original Sarcasm list: 115898 words\n",
      "Length of Sarcasm list after stopwords removal: 87458 words\n",
      "============================================================================================\n",
      "Length of original Acclaim list: 147128 words\n",
      "Length of Acclaim list after stopwords removal: 103525 words\n"
     ]
    }
   ],
   "source": [
    "import nltk\n",
    "#nltk.download('stopwords')\n",
    "\n",
    "stopwords = nltk.corpus.stopwords.words('english')\n",
    "sar_list_restp = [word for word in sar_list if word.lower() not in stopwords]\n",
    "acc_list_restp = [word for word in acc_list if word.lower() not in stopwords]\n",
    "\n",
    "print(\"Length of original Sarcasm list: {0} words\\n\"\n",
    "      \"Length of Sarcasm list after stopwords removal: {1} words\"\n",
    "      .format(len(sar_list), len(sar_list_restp)))\n",
    "\n",
    "print(\"==\"*46)\n",
    "\n",
    "print(\"Length of original Acclaim list: {0} words\\n\"\n",
    "      \"Length of Acclaim list after stopwords removal: {1} words\"\n",
    "      .format(len(acc_list), len(acc_list_restp)))\n"
   ]
  },
  {
   "cell_type": "code",
   "execution_count": 6,
   "metadata": {},
   "outputs": [
    {
     "data": {
      "text/html": [
       "<div>\n",
       "<style scoped>\n",
       "    .dataframe tbody tr th:only-of-type {\n",
       "        vertical-align: middle;\n",
       "    }\n",
       "\n",
       "    .dataframe tbody tr th {\n",
       "        vertical-align: top;\n",
       "    }\n",
       "\n",
       "    .dataframe thead th {\n",
       "        text-align: right;\n",
       "    }\n",
       "</style>\n",
       "<table border=\"1\" class=\"dataframe\">\n",
       "  <thead>\n",
       "    <tr style=\"text-align: right;\">\n",
       "      <th></th>\n",
       "      <th>Words</th>\n",
       "      <th>Freq</th>\n",
       "    </tr>\n",
       "  </thead>\n",
       "  <tbody>\n",
       "    <tr>\n",
       "      <th>64</th>\n",
       "      <td>trump</td>\n",
       "      <td>957</td>\n",
       "    </tr>\n",
       "    <tr>\n",
       "      <th>703</th>\n",
       "      <td>new</td>\n",
       "      <td>664</td>\n",
       "    </tr>\n",
       "    <tr>\n",
       "      <th>230</th>\n",
       "      <td>donald</td>\n",
       "      <td>453</td>\n",
       "    </tr>\n",
       "    <tr>\n",
       "      <th>44</th>\n",
       "      <td>trump's</td>\n",
       "      <td>364</td>\n",
       "    </tr>\n",
       "    <tr>\n",
       "      <th>429</th>\n",
       "      <td>says</td>\n",
       "      <td>346</td>\n",
       "    </tr>\n",
       "    <tr>\n",
       "      <th>28</th>\n",
       "      <td>women</td>\n",
       "      <td>240</td>\n",
       "    </tr>\n",
       "    <tr>\n",
       "      <th>261</th>\n",
       "      <td>one</td>\n",
       "      <td>234</td>\n",
       "    </tr>\n",
       "    <tr>\n",
       "      <th>1835</th>\n",
       "      <td>u.s.</td>\n",
       "      <td>223</td>\n",
       "    </tr>\n",
       "    <tr>\n",
       "      <th>287</th>\n",
       "      <td>first</td>\n",
       "      <td>220</td>\n",
       "    </tr>\n",
       "    <tr>\n",
       "      <th>616</th>\n",
       "      <td>make</td>\n",
       "      <td>209</td>\n",
       "    </tr>\n",
       "    <tr>\n",
       "      <th>349</th>\n",
       "      <td>people</td>\n",
       "      <td>208</td>\n",
       "    </tr>\n",
       "    <tr>\n",
       "      <th>50</th>\n",
       "      <td>man</td>\n",
       "      <td>208</td>\n",
       "    </tr>\n",
       "    <tr>\n",
       "      <th>789</th>\n",
       "      <td>get</td>\n",
       "      <td>198</td>\n",
       "    </tr>\n",
       "    <tr>\n",
       "      <th>132</th>\n",
       "      <td>like</td>\n",
       "      <td>195</td>\n",
       "    </tr>\n",
       "    <tr>\n",
       "      <th>361</th>\n",
       "      <td>gop</td>\n",
       "      <td>192</td>\n",
       "    </tr>\n",
       "    <tr>\n",
       "      <th>439</th>\n",
       "      <td>day</td>\n",
       "      <td>184</td>\n",
       "    </tr>\n",
       "    <tr>\n",
       "      <th>106</th>\n",
       "      <td>could</td>\n",
       "      <td>183</td>\n",
       "    </tr>\n",
       "    <tr>\n",
       "      <th>377</th>\n",
       "      <td>5</td>\n",
       "      <td>182</td>\n",
       "    </tr>\n",
       "    <tr>\n",
       "      <th>628</th>\n",
       "      <td>black</td>\n",
       "      <td>179</td>\n",
       "    </tr>\n",
       "    <tr>\n",
       "      <th>598</th>\n",
       "      <td>need</td>\n",
       "      <td>170</td>\n",
       "    </tr>\n",
       "    <tr>\n",
       "      <th>1495</th>\n",
       "      <td>white</td>\n",
       "      <td>170</td>\n",
       "    </tr>\n",
       "    <tr>\n",
       "      <th>1861</th>\n",
       "      <td>clinton</td>\n",
       "      <td>169</td>\n",
       "    </tr>\n",
       "    <tr>\n",
       "      <th>258</th>\n",
       "      <td>world</td>\n",
       "      <td>169</td>\n",
       "    </tr>\n",
       "    <tr>\n",
       "      <th>114</th>\n",
       "      <td>obama</td>\n",
       "      <td>168</td>\n",
       "    </tr>\n",
       "    <tr>\n",
       "      <th>501</th>\n",
       "      <td>police</td>\n",
       "      <td>168</td>\n",
       "    </tr>\n",
       "    <tr>\n",
       "      <th>1148</th>\n",
       "      <td>here's</td>\n",
       "      <td>166</td>\n",
       "    </tr>\n",
       "    <tr>\n",
       "      <th>218</th>\n",
       "      <td>health</td>\n",
       "      <td>162</td>\n",
       "    </tr>\n",
       "    <tr>\n",
       "      <th>196</th>\n",
       "      <td>life</td>\n",
       "      <td>162</td>\n",
       "    </tr>\n",
       "    <tr>\n",
       "      <th>360</th>\n",
       "      <td>house</td>\n",
       "      <td>162</td>\n",
       "    </tr>\n",
       "    <tr>\n",
       "      <th>1214</th>\n",
       "      <td>bill</td>\n",
       "      <td>161</td>\n",
       "    </tr>\n",
       "  </tbody>\n",
       "</table>\n",
       "</div>"
      ],
      "text/plain": [
       "        Words  Freq\n",
       "64    trump    957 \n",
       "703   new      664 \n",
       "230   donald   453 \n",
       "44    trump's  364 \n",
       "429   says     346 \n",
       "28    women    240 \n",
       "261   one      234 \n",
       "1835  u.s.     223 \n",
       "287   first    220 \n",
       "616   make     209 \n",
       "349   people   208 \n",
       "50    man      208 \n",
       "789   get      198 \n",
       "132   like     195 \n",
       "361   gop      192 \n",
       "439   day      184 \n",
       "106   could    183 \n",
       "377   5        182 \n",
       "628   black    179 \n",
       "598   need     170 \n",
       "1495  white    170 \n",
       "1861  clinton  169 \n",
       "258   world    169 \n",
       "114   obama    168 \n",
       "501   police   168 \n",
       "1148  here's   166 \n",
       "218   health   162 \n",
       "196   life     162 \n",
       "360   house    162 \n",
       "1214  bill     161 "
      ]
     },
     "execution_count": 6,
     "metadata": {},
     "output_type": "execute_result"
    }
   ],
   "source": [
    "\n",
    "\n",
    "#Data cleaning for getting top 30\n",
    "from collections import Counter\n",
    "sar_cnt = Counter(sar_list_restp)\n",
    "acc_cnt = Counter(acc_list_restp)\n",
    "\n",
    "#Dictonary to Dataframe\n",
    "sar_cnt_df = pd.DataFrame(list(sar_cnt.items()), columns = ['Words', 'Freq'])\n",
    "sar_cnt_df = sar_cnt_df.sort_values(by=['Freq'], ascending=False)\n",
    "acc_cnt_df = pd.DataFrame(list(acc_cnt.items()), columns = ['Words', 'Freq'])\n",
    "acc_cnt_df = acc_cnt_df.sort_values(by=['Freq'], ascending=False)\n",
    "\n",
    "#Top 30\n",
    "sar_cnt_df_30 = sar_cnt_df.head(30)\n",
    "acc_cnt_df_30 = acc_cnt_df.head(30)\n",
    "sar_cnt_df_30\n",
    "acc_cnt_df_30\n",
    "\n"
   ]
  },
  {
   "cell_type": "code",
   "execution_count": 7,
   "metadata": {},
   "outputs": [
    {
     "name": "stdout",
     "output_type": "stream",
     "text": [
      "The stemmed form of learning is: learn\n",
      "The stemmed form of learns is: learn\n",
      "The stemmed form of learn is: learn\n",
      "============================================================================================\n",
      "The stemmed form of leaves is: leav\n",
      "============================================================================================\n"
     ]
    }
   ],
   "source": [
    "\n",
    "\n",
    "stemmer = nltk.stem.SnowballStemmer(\"english\", ignore_stopwords=True)\n",
    "\n",
    "print(\"The stemmed form of learning is: {}\".format(stemmer.stem(\"learning\")))\n",
    "print(\"The stemmed form of learns is: {}\".format(stemmer.stem(\"learns\")))\n",
    "print(\"The stemmed form of learn is: {}\".format(stemmer.stem(\"learn\")))\n",
    "print(\"==\"*46)\n",
    "print(\"The stemmed form of leaves is: {}\".format(stemmer.stem(\"leaves\")))\n",
    "print(\"==\"*46)\n",
    "\n"
   ]
  },
  {
   "cell_type": "code",
   "execution_count": 8,
   "metadata": {},
   "outputs": [
    {
     "name": "stdout",
     "output_type": "stream",
     "text": [
      "The lemmatized form of leaves is: leaf\n"
     ]
    }
   ],
   "source": [
    "from nltk.stem import WordNetLemmatizer\n",
    "#nltk.download('wordnet')\n",
    "lemm = WordNetLemmatizer()\n",
    "print(\"The lemmatized form of leaves is: {}\".format(lemm.lemmatize(\"leaves\")))"
   ]
  },
  {
   "cell_type": "code",
   "execution_count": 9,
   "metadata": {},
   "outputs": [],
   "source": [
    "sar_wost_lem = []\n",
    "for batch in sar_news:\n",
    "    sar_list_restp = [word for word in batch if word.lower() not in stopwords]\n",
    "    lemm = WordNetLemmatizer()\n",
    "    sar_list_lemm =  [lemm.lemmatize(word) for word in sar_list_restp]\n",
    "    sar_wost_lem.append(sar_list_lemm)\n",
    "\n",
    "#Acclaim headline after Lemmatization\n",
    "acc_wost_lem = []\n",
    "for batch in acc_news:\n",
    "    acc_list_restp = [word for word in batch if word.lower() not in stopwords]\n",
    "    lemm = WordNetLemmatizer()\n",
    "    acc_list_lemm =  [lemm.lemmatize(word) for word in acc_list_restp]\n",
    "    acc_wost_lem.append(sar_list_lemm)"
   ]
  },
  {
   "cell_type": "code",
   "execution_count": 10,
   "metadata": {},
   "outputs": [
    {
     "name": "stdout",
     "output_type": "stream",
     "text": [
      "The features are:\n",
      " ['christmas', 'francis', 'got', 'pope', 'sweater', 'vestment', 'wearing']\n",
      "\n",
      "The vectorized array looks like:\n",
      " [[0 0 0 1 0 0 0]\n",
      " [0 1 0 0 0 0 0]\n",
      " [0 0 0 0 0 0 1]\n",
      " [0 0 0 0 1 0 0]\n",
      " [0 0 0 0 0 1 0]\n",
      " [0 0 1 0 0 0 0]\n",
      " [1 0 0 0 0 0 0]]\n"
     ]
    }
   ],
   "source": [
    "from sklearn.feature_extraction.text import CountVectorizer\n",
    "vec = []\n",
    "for block in sar_wost_lem:\n",
    "    vectorizer = CountVectorizer(min_df=0)\n",
    "    sentence_transform = vectorizer.fit_transform(block)\n",
    "    vec.append(sentence_transform)\n",
    "    \n",
    "print(\"The features are:\\n {}\".format(vectorizer.get_feature_names()))\n",
    "print(\"\\nThe vectorized array looks like:\\n {}\".format(sentence_transform.toarray()))"
   ]
  },
  {
   "cell_type": "code",
   "execution_count": 11,
   "metadata": {},
   "outputs": [
    {
     "data": {
      "image/png": "[encoded data removed]",
      "text/plain": [
       "<Figure size 432x288 with 1 Axes>"
      ]
     },
     "metadata": {
      "needs_background": "light"
     },
     "output_type": "display_data"
    }
   ],
   "source": [
    "# Converting all sarcasm keywords to single list after lemmatization\n",
    "from matplotlib import pyplot as plt\n",
    "%matplotlib inline\n",
    "sar_list_wd = list(itertools.chain(*sar_wost_lem))\n",
    "from wordcloud import WordCloud\n",
    "sar_cloud = WordCloud(background_color='black', width=20000,height=10000).\\\n",
    "                generate(\" \".join(sar_list_wd))\n",
    "plt.imshow(sar_cloud)\n",
    "plt.axis('off')\n",
    "plt.show()\n"
   ]
  },
  {
   "cell_type": "code",
   "execution_count": 12,
   "metadata": {},
   "outputs": [
    {
     "data": {
      "image/png": "[encoded data removed]",
      "text/plain": [
       "<Figure size 432x288 with 1 Axes>"
      ]
     },
     "metadata": {
      "needs_background": "light"
     },
     "output_type": "display_data"
    }
   ],
   "source": [
    "acc_list_wd = list(itertools.chain(*acc_wost_lem))\n",
    "acc_cloud = WordCloud(background_color='black', width=20000,height=10000).\\\n",
    "                generate(\" \".join(acc_list_wd))\n",
    "plt.imshow(acc_cloud)\n",
    "plt.axis('off')\n",
    "plt.show()"
   ]
  },
  {
   "cell_type": "code",
   "execution_count": 13,
   "metadata": {
    "scrolled": true
   },
   "outputs": [
    {
     "name": "stdout",
     "output_type": "stream",
     "text": [
      "This is the format of your plot grid:\n",
      "[ (1,1) x1,y1 ]  [ (1,2) x2,y2 ]\n",
      "\n"
     ]
    },
    {
     "data": {
      "application/vnd.plotly.v1+json": {
       "config": {
        "linkText": "Export to plot.ly",
        "plotlyServerURL": "https://plot.ly",
        "showLink": false
       },
       "data": [
        {
         "marker": {
          "color": "#9B59B6"
         },
         "orientation": "h",
         "showlegend": false,
         "type": "bar",
         "uid": "43422827-f42e-4e6e-87ea-4505d70f11e0",
         "x": [
          13,
          13,
          13,
          13,
          13,
          13,
          13,
          14,
          14,
          14,
          14,
          14,
          14,
          15,
          15,
          15,
          16,
          16,
          16,
          16,
          17,
          17,
          17,
          18,
          18,
          19,
          20,
          20,
          21,
          22,
          22,
          23,
          23,
          24,
          28,
          30,
          31,
          31,
          32,
          32,
          33,
          36,
          36,
          37,
          40,
          42,
          60,
          91,
          103,
          223
         ],
         "xaxis": "x",
         "y": [
          "taylor swift",
          "get back",
          "bernie sander",
          "michelle obama",
          "secret service",
          "climate change",
          "man get",
          "feel like",
          "parking lot",
          "tv show",
          "john kerry",
          "tim kaine",
          "john kelly",
          "ted cruz",
          "average american",
          "jeb bush",
          "new line",
          "north korea",
          "report: american",
          "report: majority",
          "first time",
          "mike penny",
          "majority american",
          "new york",
          "look like",
          "poll find",
          "can't wait",
          "state union",
          "one day",
          "video game",
          "area dad",
          "local man",
          "paul ryan",
          "report find",
          "can't believe",
          "announces plan",
          "hillary clinton",
          "release new",
          "area man's",
          "historical archives:",
          "pope francis",
          "unveils new",
          "high school",
          "supreme court",
          "new study",
          "area woman",
          "introduces new",
          "white house",
          "study find",
          "area man"
         ],
         "yaxis": "y"
        },
        {
         "marker": {
          "color": "#58D68D"
         },
         "orientation": "h",
         "showlegend": false,
         "type": "bar",
         "uid": "1679e657-baa5-4e7d-ab96-82d8042ff8b2",
         "x": [
          14985,
          14985,
          14985,
          14985,
          14985,
          14985
         ],
         "xaxis": "x2",
         "y": [
          "pope francis",
          "francis wearing",
          "wearing sweater",
          "sweater vestment",
          "vestment got",
          "got christmas"
         ],
         "yaxis": "y2"
        }
       ],
       "layout": {
        "annotations": [
         {
          "font": {
           "size": 16
          },
          "showarrow": false,
          "text": "Frequent bigrams of Sarcasm Headlines",
          "x": 0.2125,
          "xanchor": "center",
          "xref": "paper",
          "y": 1,
          "yanchor": "bottom",
          "yref": "paper"
         },
         {
          "font": {
           "size": 16
          },
          "showarrow": false,
          "text": "Frequent bigrams of Acclaim Headlines",
          "x": 0.7875,
          "xanchor": "center",
          "xref": "paper",
          "y": 1,
          "yanchor": "bottom",
          "yref": "paper"
         }
        ],
        "height": 1200,
        "paper_bgcolor": "rgb(233,233,233)",
        "title": {
         "text": "Bigram Plots Sarcasm Vs Acclaim after removing Stopwords"
        },
        "width": 900,
        "xaxis": {
         "anchor": "y",
         "domain": [
          0,
          0.425
         ]
        },
        "xaxis2": {
         "anchor": "y2",
         "domain": [
          0.575,
          1
         ]
        },
        "yaxis": {
         "anchor": "x",
         "domain": [
          0,
          1
         ]
        },
        "yaxis2": {
         "anchor": "x2",
         "domain": [
          0,
          1
         ]
        }
       }
      },
      "text/html": [
       "<div id=\"fe947d8c-758a-4dce-a84d-f8c5cdcc5209\" style=\"height: 1200px; width: 900px;\" class=\"plotly-graph-div\"></div><script type=\"text/javascript\">require([\"plotly\"], function(Plotly) { window.PLOTLYENV=window.PLOTLYENV || {};window.PLOTLYENV.BASE_URL=\"https://plot.ly\";Plotly.newPlot(\"fe947d8c-758a-4dce-a84d-f8c5cdcc5209\", [{\"marker\": {\"color\": \"#9B59B6\"}, \"orientation\": \"h\", \"showlegend\": false, \"x\": [13, 13, 13, 13, 13, 13, 13, 14, 14, 14, 14, 14, 14, 15, 15, 15, 16, 16, 16, 16, 17, 17, 17, 18, 18, 19, 20, 20, 21, 22, 22, 23, 23, 24, 28, 30, 31, 31, 32, 32, 33, 36, 36, 37, 40, 42, 60, 91, 103, 223], \"y\": [\"taylor swift\", \"get back\", \"bernie sander\", \"michelle obama\", \"secret service\", \"climate change\", \"man get\", \"feel like\", \"parking lot\", \"tv show\", \"john kerry\", \"tim kaine\", \"john kelly\", \"ted cruz\", \"average american\", \"jeb bush\", \"new line\", \"north korea\", \"report: american\", \"report: majority\", \"first time\", \"mike penny\", \"majority american\", \"new york\", \"look like\", \"poll find\", \"can't wait\", \"state union\", \"one day\", \"video game\", \"area dad\", \"local man\", \"paul ryan\", \"report find\", \"can't believe\", \"announces plan\", \"hillary clinton\", \"release new\", \"area man's\", \"historical archives:\", \"pope francis\", \"unveils new\", \"high school\", \"supreme court\", \"new study\", \"area woman\", \"introduces new\", \"white house\", \"study find\", \"area man\"], \"type\": \"bar\", \"uid\": \"43422827-f42e-4e6e-87ea-4505d70f11e0\", \"xaxis\": \"x\", \"yaxis\": \"y\"}, {\"marker\": {\"color\": \"#58D68D\"}, \"orientation\": \"h\", \"showlegend\": false, \"x\": [14985, 14985, 14985, 14985, 14985, 14985], \"y\": [\"pope francis\", \"francis wearing\", \"wearing sweater\", \"sweater vestment\", \"vestment got\", \"got christmas\"], \"type\": \"bar\", \"uid\": \"1679e657-baa5-4e7d-ab96-82d8042ff8b2\", \"xaxis\": \"x2\", \"yaxis\": \"y2\"}], {\"annotations\": [{\"font\": {\"size\": 16}, \"showarrow\": false, \"text\": \"Frequent bigrams of Sarcasm Headlines\", \"x\": 0.2125, \"xanchor\": \"center\", \"xref\": \"paper\", \"y\": 1.0, \"yanchor\": \"bottom\", \"yref\": \"paper\"}, {\"font\": {\"size\": 16}, \"showarrow\": false, \"text\": \"Frequent bigrams of Acclaim Headlines\", \"x\": 0.7875, \"xanchor\": \"center\", \"xref\": \"paper\", \"y\": 1.0, \"yanchor\": \"bottom\", \"yref\": \"paper\"}], \"xaxis\": {\"anchor\": \"y\", \"domain\": [0.0, 0.425]}, \"yaxis\": {\"anchor\": \"x\", \"domain\": [0.0, 1.0]}, \"xaxis2\": {\"anchor\": \"y2\", \"domain\": [0.575, 1.0]}, \"yaxis2\": {\"anchor\": \"x2\", \"domain\": [0.0, 1.0]}, \"height\": 1200, \"width\": 900, \"paper_bgcolor\": \"rgb(233,233,233)\", \"title\": {\"text\": \"Bigram Plots Sarcasm Vs Acclaim after removing Stopwords\"}}, {\"showLink\": false, \"linkText\": \"Export to plot.ly\", \"plotlyServerURL\": \"https://plot.ly\"})});</script>"
      ],
      "text/vnd.plotly.v1+html": [
       "<div id=\"fe947d8c-758a-4dce-a84d-f8c5cdcc5209\" style=\"height: 1200px; width: 900px;\" class=\"plotly-graph-div\"></div><script type=\"text/javascript\">require([\"plotly\"], function(Plotly) { window.PLOTLYENV=window.PLOTLYENV || {};window.PLOTLYENV.BASE_URL=\"https://plot.ly\";Plotly.newPlot(\"fe947d8c-758a-4dce-a84d-f8c5cdcc5209\", [{\"marker\": {\"color\": \"#9B59B6\"}, \"orientation\": \"h\", \"showlegend\": false, \"x\": [13, 13, 13, 13, 13, 13, 13, 14, 14, 14, 14, 14, 14, 15, 15, 15, 16, 16, 16, 16, 17, 17, 17, 18, 18, 19, 20, 20, 21, 22, 22, 23, 23, 24, 28, 30, 31, 31, 32, 32, 33, 36, 36, 37, 40, 42, 60, 91, 103, 223], \"y\": [\"taylor swift\", \"get back\", \"bernie sander\", \"michelle obama\", \"secret service\", \"climate change\", \"man get\", \"feel like\", \"parking lot\", \"tv show\", \"john kerry\", \"tim kaine\", \"john kelly\", \"ted cruz\", \"average american\", \"jeb bush\", \"new line\", \"north korea\", \"report: american\", \"report: majority\", \"first time\", \"mike penny\", \"majority american\", \"new york\", \"look like\", \"poll find\", \"can't wait\", \"state union\", \"one day\", \"video game\", \"area dad\", \"local man\", \"paul ryan\", \"report find\", \"can't believe\", \"announces plan\", \"hillary clinton\", \"release new\", \"area man's\", \"historical archives:\", \"pope francis\", \"unveils new\", \"high school\", \"supreme court\", \"new study\", \"area woman\", \"introduces new\", \"white house\", \"study find\", \"area man\"], \"type\": \"bar\", \"uid\": \"43422827-f42e-4e6e-87ea-4505d70f11e0\", \"xaxis\": \"x\", \"yaxis\": \"y\"}, {\"marker\": {\"color\": \"#58D68D\"}, \"orientation\": \"h\", \"showlegend\": false, \"x\": [14985, 14985, 14985, 14985, 14985, 14985], \"y\": [\"pope francis\", \"francis wearing\", \"wearing sweater\", \"sweater vestment\", \"vestment got\", \"got christmas\"], \"type\": \"bar\", \"uid\": \"1679e657-baa5-4e7d-ab96-82d8042ff8b2\", \"xaxis\": \"x2\", \"yaxis\": \"y2\"}], {\"annotations\": [{\"font\": {\"size\": 16}, \"showarrow\": false, \"text\": \"Frequent bigrams of Sarcasm Headlines\", \"x\": 0.2125, \"xanchor\": \"center\", \"xref\": \"paper\", \"y\": 1.0, \"yanchor\": \"bottom\", \"yref\": \"paper\"}, {\"font\": {\"size\": 16}, \"showarrow\": false, \"text\": \"Frequent bigrams of Acclaim Headlines\", \"x\": 0.7875, \"xanchor\": \"center\", \"xref\": \"paper\", \"y\": 1.0, \"yanchor\": \"bottom\", \"yref\": \"paper\"}], \"xaxis\": {\"anchor\": \"y\", \"domain\": [0.0, 0.425]}, \"yaxis\": {\"anchor\": \"x\", \"domain\": [0.0, 1.0]}, \"xaxis2\": {\"anchor\": \"y2\", \"domain\": [0.575, 1.0]}, \"yaxis2\": {\"anchor\": \"x2\", \"domain\": [0.0, 1.0]}, \"height\": 1200, \"width\": 900, \"paper_bgcolor\": \"rgb(233,233,233)\", \"title\": {\"text\": \"Bigram Plots Sarcasm Vs Acclaim after removing Stopwords\"}}, {\"showLink\": false, \"linkText\": \"Export to plot.ly\", \"plotlyServerURL\": \"https://plot.ly\"})});</script>"
      ]
     },
     "metadata": {},
     "output_type": "display_data"
    }
   ],
   "source": [
    "from plotly import tools\n",
    "sar_wost_lem_df = pd.DataFrame({'sarcasm':sar_wost_lem})\n",
    "acc_wost_lem_df = pd.DataFrame({'acclaim':acc_wost_lem})\n",
    "\n",
    "## custom function for ngram generation ##\n",
    "def generate_ngrams(text, n_gram=1):\n",
    "    ngrams = zip(*[text[i:] for i in range(n_gram)])\n",
    "    return [\" \".join(ngram) for ngram in ngrams]\n",
    "\n",
    "## custom function for horizontal bar chart ##\n",
    "def horizontal_bar_chart(df, color):\n",
    "    trace = go.Bar(\n",
    "        y=df[\"word\"].values[::-1],\n",
    "        x=df[\"wordcount\"].values[::-1],\n",
    "        showlegend=False,\n",
    "        orientation = 'h',\n",
    "        marker=dict(\n",
    "            color=color,\n",
    "        ),\n",
    "    )\n",
    "    return trace\n",
    "\n",
    "#Plotting the Bigram plot\n",
    "from collections import defaultdict\n",
    "freq_dict = defaultdict(int)\n",
    "for sent in sar_wost_lem_df[\"sarcasm\"]:\n",
    "    for word in generate_ngrams(sent,2):\n",
    "        freq_dict[word] += 1\n",
    "fd_sorted = pd.DataFrame(sorted(freq_dict.items(), key=lambda x: x[1])[::-1])\n",
    "fd_sorted.columns = [\"word\", \"wordcount\"]\n",
    "sar_2 = horizontal_bar_chart(fd_sorted.head(50), '#9B59B6')\n",
    "\n",
    "\n",
    "freq_dict = defaultdict(int)\n",
    "for sent in acc_wost_lem_df[\"acclaim\"]:\n",
    "    for word in generate_ngrams(sent,2):\n",
    "        freq_dict[word] += 1\n",
    "fd_sorted = pd.DataFrame(sorted(freq_dict.items(), key=lambda x: x[1])[::-1])\n",
    "fd_sorted.columns = [\"word\", \"wordcount\"]\n",
    "acc_2 = horizontal_bar_chart(fd_sorted.head(50), '#58D68D')\n",
    "\n",
    "# Creating two subplots\n",
    "fig = tools.make_subplots(rows=1, cols=2, vertical_spacing=0.04,horizontal_spacing=0.15,\n",
    "                          subplot_titles=[\"Frequent bigrams of Sarcasm Headlines\", \n",
    "                                          \"Frequent bigrams of Acclaim Headlines\"])\n",
    "fig.append_trace(sar_2, 1, 1)\n",
    "fig.append_trace(acc_2, 1, 2)\n",
    "fig['layout'].update(height=1200, width=900, paper_bgcolor='rgb(233,233,233)', title=\"Bigram Plots Sarcasm Vs Acclaim after removing Stopwords\")\n",
    "iplot(fig, filename='word-plots')"
   ]
  },
  {
   "cell_type": "code",
   "execution_count": 14,
   "metadata": {},
   "outputs": [
    {
     "name": "stdout",
     "output_type": "stream",
     "text": [
      "This is the format of your plot grid:\n",
      "[ (1,1) x1,y1 ]  [ (1,2) x2,y2 ]\n",
      "\n"
     ]
    },
    {
     "data": {
      "application/vnd.plotly.v1+json": {
       "config": {
        "linkText": "Export to plot.ly",
        "plotlyServerURL": "https://plot.ly",
        "showLink": false
       },
       "data": [
        {
         "marker": {
          "color": "#9B59B6"
         },
         "orientation": "h",
         "showlegend": false,
         "type": "bar",
         "uid": "216c6cd0-4fd7-4882-b5e2-613c8b14e28d",
         "x": [
          3,
          3,
          3,
          3,
          3,
          4,
          4,
          4,
          4,
          4,
          4,
          4,
          4,
          4,
          4,
          4,
          4,
          4,
          4,
          4,
          4,
          4,
          4,
          5,
          5,
          5,
          5,
          5,
          5,
          5,
          5,
          5,
          5,
          6,
          6,
          6,
          6,
          6,
          7,
          7,
          7,
          8,
          8,
          8,
          8,
          8,
          8,
          8,
          8,
          33
         ],
         "xaxis": "x",
         "y": [
          "first day school",
          "climate change study",
          "george r.r. martin",
          "british royal family",
          "study find average",
          "new york time",
          "taylor swift dating",
          "area man could",
          "area man think",
          "come crawling back",
          "fda approves new",
          "historical archives: sold",
          "archives: sold -",
          "area man idea",
          "donald trump jr.",
          "barnes & noble",
          "world war ii",
          "around white house",
          "ready go case",
          "find average american",
          "state union address",
          "area man pretty",
          "study find earth's",
          "'new york times'",
          "guy one show",
          "can't wait get",
          "high school student",
          "unveils new line",
          "new poll find",
          "supreme court justice",
          "new video game",
          "report: majority american",
          "world wildlife fund",
          "dream one day",
          "introduces new line",
          "study find majority",
          "study find american",
          "study find human",
          "new evidence suggests",
          "death row inmate",
          "report: average american",
          "new report find",
          "'no way prevent",
          "way prevent this,'",
          "prevent this,' say",
          "this,' say nation",
          "say nation regularly",
          "nation regularly happens",
          "secret service agent",
          "new study find"
         ],
         "yaxis": "y"
        },
        {
         "marker": {
          "color": "#58D68D"
         },
         "orientation": "h",
         "showlegend": false,
         "type": "bar",
         "uid": "fa06378b-9f22-4303-9db6-791c910a9852",
         "x": [
          14985,
          14985,
          14985,
          14985,
          14985
         ],
         "xaxis": "x2",
         "y": [
          "pope francis wearing",
          "francis wearing sweater",
          "wearing sweater vestment",
          "sweater vestment got",
          "vestment got christmas"
         ],
         "yaxis": "y2"
        }
       ],
       "layout": {
        "annotations": [
         {
          "font": {
           "size": 16
          },
          "showarrow": false,
          "text": "Frequent Trigrams of Sarcasm Headlines",
          "x": 0.2125,
          "xanchor": "center",
          "xref": "paper",
          "y": 1,
          "yanchor": "bottom",
          "yref": "paper"
         },
         {
          "font": {
           "size": 16
          },
          "showarrow": false,
          "text": "Frequent Trigrams of Acclaim Headlines",
          "x": 0.7875,
          "xanchor": "center",
          "xref": "paper",
          "y": 1,
          "yanchor": "bottom",
          "yref": "paper"
         }
        ],
        "height": 1200,
        "paper_bgcolor": "rgb(233,233,233)",
        "title": {
         "text": "Trigram Plots Sarcasm Vs Acclaim after removing Stopwords"
        },
        "width": 900,
        "xaxis": {
         "anchor": "y",
         "domain": [
          0,
          0.425
         ]
        },
        "xaxis2": {
         "anchor": "y2",
         "domain": [
          0.575,
          1
         ]
        },
        "yaxis": {
         "anchor": "x",
         "domain": [
          0,
          1
         ]
        },
        "yaxis2": {
         "anchor": "x2",
         "domain": [
          0,
          1
         ]
        }
       }
      },
      "text/html": [
       "<div id=\"97912c1a-b35e-45d7-8c03-9cd9b87526f8\" style=\"height: 1200px; width: 900px;\" class=\"plotly-graph-div\"></div><script type=\"text/javascript\">require([\"plotly\"], function(Plotly) { window.PLOTLYENV=window.PLOTLYENV || {};window.PLOTLYENV.BASE_URL=\"https://plot.ly\";Plotly.newPlot(\"97912c1a-b35e-45d7-8c03-9cd9b87526f8\", [{\"marker\": {\"color\": \"#9B59B6\"}, \"orientation\": \"h\", \"showlegend\": false, \"x\": [3, 3, 3, 3, 3, 4, 4, 4, 4, 4, 4, 4, 4, 4, 4, 4, 4, 4, 4, 4, 4, 4, 4, 5, 5, 5, 5, 5, 5, 5, 5, 5, 5, 6, 6, 6, 6, 6, 7, 7, 7, 8, 8, 8, 8, 8, 8, 8, 8, 33], \"y\": [\"first day school\", \"climate change study\", \"george r.r. martin\", \"british royal family\", \"study find average\", \"new york time\", \"taylor swift dating\", \"area man could\", \"area man think\", \"come crawling back\", \"fda approves new\", \"historical archives: sold\", \"archives: sold -\", \"area man idea\", \"donald trump jr.\", \"barnes & noble\", \"world war ii\", \"around white house\", \"ready go case\", \"find average american\", \"state union address\", \"area man pretty\", \"study find earth's\", \"'new york times'\", \"guy one show\", \"can't wait get\", \"high school student\", \"unveils new line\", \"new poll find\", \"supreme court justice\", \"new video game\", \"report: majority american\", \"world wildlife fund\", \"dream one day\", \"introduces new line\", \"study find majority\", \"study find american\", \"study find human\", \"new evidence suggests\", \"death row inmate\", \"report: average american\", \"new report find\", \"'no way prevent\", \"way prevent this,'\", \"prevent this,' say\", \"this,' say nation\", \"say nation regularly\", \"nation regularly happens\", \"secret service agent\", \"new study find\"], \"type\": \"bar\", \"uid\": \"216c6cd0-4fd7-4882-b5e2-613c8b14e28d\", \"xaxis\": \"x\", \"yaxis\": \"y\"}, {\"marker\": {\"color\": \"#58D68D\"}, \"orientation\": \"h\", \"showlegend\": false, \"x\": [14985, 14985, 14985, 14985, 14985], \"y\": [\"pope francis wearing\", \"francis wearing sweater\", \"wearing sweater vestment\", \"sweater vestment got\", \"vestment got christmas\"], \"type\": \"bar\", \"uid\": \"fa06378b-9f22-4303-9db6-791c910a9852\", \"xaxis\": \"x2\", \"yaxis\": \"y2\"}], {\"annotations\": [{\"font\": {\"size\": 16}, \"showarrow\": false, \"text\": \"Frequent Trigrams of Sarcasm Headlines\", \"x\": 0.2125, \"xanchor\": \"center\", \"xref\": \"paper\", \"y\": 1.0, \"yanchor\": \"bottom\", \"yref\": \"paper\"}, {\"font\": {\"size\": 16}, \"showarrow\": false, \"text\": \"Frequent Trigrams of Acclaim Headlines\", \"x\": 0.7875, \"xanchor\": \"center\", \"xref\": \"paper\", \"y\": 1.0, \"yanchor\": \"bottom\", \"yref\": \"paper\"}], \"xaxis\": {\"anchor\": \"y\", \"domain\": [0.0, 0.425]}, \"yaxis\": {\"anchor\": \"x\", \"domain\": [0.0, 1.0]}, \"xaxis2\": {\"anchor\": \"y2\", \"domain\": [0.575, 1.0]}, \"yaxis2\": {\"anchor\": \"x2\", \"domain\": [0.0, 1.0]}, \"height\": 1200, \"width\": 900, \"paper_bgcolor\": \"rgb(233,233,233)\", \"title\": {\"text\": \"Trigram Plots Sarcasm Vs Acclaim after removing Stopwords\"}}, {\"showLink\": false, \"linkText\": \"Export to plot.ly\", \"plotlyServerURL\": \"https://plot.ly\"})});</script>"
      ],
      "text/vnd.plotly.v1+html": [
       "<div id=\"97912c1a-b35e-45d7-8c03-9cd9b87526f8\" style=\"height: 1200px; width: 900px;\" class=\"plotly-graph-div\"></div><script type=\"text/javascript\">require([\"plotly\"], function(Plotly) { window.PLOTLYENV=window.PLOTLYENV || {};window.PLOTLYENV.BASE_URL=\"https://plot.ly\";Plotly.newPlot(\"97912c1a-b35e-45d7-8c03-9cd9b87526f8\", [{\"marker\": {\"color\": \"#9B59B6\"}, \"orientation\": \"h\", \"showlegend\": false, \"x\": [3, 3, 3, 3, 3, 4, 4, 4, 4, 4, 4, 4, 4, 4, 4, 4, 4, 4, 4, 4, 4, 4, 4, 5, 5, 5, 5, 5, 5, 5, 5, 5, 5, 6, 6, 6, 6, 6, 7, 7, 7, 8, 8, 8, 8, 8, 8, 8, 8, 33], \"y\": [\"first day school\", \"climate change study\", \"george r.r. martin\", \"british royal family\", \"study find average\", \"new york time\", \"taylor swift dating\", \"area man could\", \"area man think\", \"come crawling back\", \"fda approves new\", \"historical archives: sold\", \"archives: sold -\", \"area man idea\", \"donald trump jr.\", \"barnes & noble\", \"world war ii\", \"around white house\", \"ready go case\", \"find average american\", \"state union address\", \"area man pretty\", \"study find earth's\", \"'new york times'\", \"guy one show\", \"can't wait get\", \"high school student\", \"unveils new line\", \"new poll find\", \"supreme court justice\", \"new video game\", \"report: majority american\", \"world wildlife fund\", \"dream one day\", \"introduces new line\", \"study find majority\", \"study find american\", \"study find human\", \"new evidence suggests\", \"death row inmate\", \"report: average american\", \"new report find\", \"'no way prevent\", \"way prevent this,'\", \"prevent this,' say\", \"this,' say nation\", \"say nation regularly\", \"nation regularly happens\", \"secret service agent\", \"new study find\"], \"type\": \"bar\", \"uid\": \"216c6cd0-4fd7-4882-b5e2-613c8b14e28d\", \"xaxis\": \"x\", \"yaxis\": \"y\"}, {\"marker\": {\"color\": \"#58D68D\"}, \"orientation\": \"h\", \"showlegend\": false, \"x\": [14985, 14985, 14985, 14985, 14985], \"y\": [\"pope francis wearing\", \"francis wearing sweater\", \"wearing sweater vestment\", \"sweater vestment got\", \"vestment got christmas\"], \"type\": \"bar\", \"uid\": \"fa06378b-9f22-4303-9db6-791c910a9852\", \"xaxis\": \"x2\", \"yaxis\": \"y2\"}], {\"annotations\": [{\"font\": {\"size\": 16}, \"showarrow\": false, \"text\": \"Frequent Trigrams of Sarcasm Headlines\", \"x\": 0.2125, \"xanchor\": \"center\", \"xref\": \"paper\", \"y\": 1.0, \"yanchor\": \"bottom\", \"yref\": \"paper\"}, {\"font\": {\"size\": 16}, \"showarrow\": false, \"text\": \"Frequent Trigrams of Acclaim Headlines\", \"x\": 0.7875, \"xanchor\": \"center\", \"xref\": \"paper\", \"y\": 1.0, \"yanchor\": \"bottom\", \"yref\": \"paper\"}], \"xaxis\": {\"anchor\": \"y\", \"domain\": [0.0, 0.425]}, \"yaxis\": {\"anchor\": \"x\", \"domain\": [0.0, 1.0]}, \"xaxis2\": {\"anchor\": \"y2\", \"domain\": [0.575, 1.0]}, \"yaxis2\": {\"anchor\": \"x2\", \"domain\": [0.0, 1.0]}, \"height\": 1200, \"width\": 900, \"paper_bgcolor\": \"rgb(233,233,233)\", \"title\": {\"text\": \"Trigram Plots Sarcasm Vs Acclaim after removing Stopwords\"}}, {\"showLink\": false, \"linkText\": \"Export to plot.ly\", \"plotlyServerURL\": \"https://plot.ly\"})});</script>"
      ]
     },
     "metadata": {},
     "output_type": "display_data"
    }
   ],
   "source": [
    "#Plotting the Trigram plot\n",
    "from collections import defaultdict\n",
    "freq_dict = defaultdict(int)\n",
    "for sent in sar_wost_lem_df[\"sarcasm\"]:\n",
    "    for word in generate_ngrams(sent,3):\n",
    "        freq_dict[word] += 1\n",
    "fd_sorted = pd.DataFrame(sorted(freq_dict.items(), key=lambda x: x[1])[::-1])\n",
    "fd_sorted.columns = [\"word\", \"wordcount\"]\n",
    "sar_2 = horizontal_bar_chart(fd_sorted.head(50), '#9B59B6')\n",
    "\n",
    "\n",
    "freq_dict = defaultdict(int)\n",
    "for sent in acc_wost_lem_df[\"acclaim\"]:\n",
    "    for word in generate_ngrams(sent,3):\n",
    "        freq_dict[word] += 1\n",
    "fd_sorted = pd.DataFrame(sorted(freq_dict.items(), key=lambda x: x[1])[::-1])\n",
    "fd_sorted.columns = [\"word\", \"wordcount\"]\n",
    "acc_2 = horizontal_bar_chart(fd_sorted.head(50), '#58D68D')\n",
    "\n",
    "# Creating two subplots\n",
    "fig = tools.make_subplots(rows=1, cols=2, vertical_spacing=0.04,horizontal_spacing=0.15,\n",
    "                          subplot_titles=[\"Frequent Trigrams of Sarcasm Headlines\", \n",
    "                                          \"Frequent Trigrams of Acclaim Headlines\"])\n",
    "fig.append_trace(sar_2, 1, 1)\n",
    "fig.append_trace(acc_2, 1, 2)\n",
    "fig['layout'].update(height=1200, width=900, paper_bgcolor='rgb(233,233,233)', title=\"Trigram Plots Sarcasm Vs Acclaim after removing Stopwords\")\n",
    "iplot(fig, filename='word-plots')\n"
   ]
  },
  {
   "cell_type": "code",
   "execution_count": 15,
   "metadata": {},
   "outputs": [],
   "source": [
    "from wordcloud import STOPWORDS\n",
    "import string\n",
    "## Number of words in the text ##\n",
    "sar_acc[\"num_words\"] = sar_acc[\"headline\"].apply(lambda x: len(str(x).split()))\n",
    "\n",
    "## Number of unique words in the text ##\n",
    "sar_acc[\"num_unique_words\"] = sar_acc[\"headline\"].apply(lambda x: len(set(str(x).split())))\n",
    "\n",
    "## Number of characters in the text ##\n",
    "sar_acc[\"num_chars\"] = sar_acc[\"headline\"].apply(lambda x: len(str(x)))\n",
    "\n",
    "## Number of stopwords in the text ##\n",
    "sar_acc[\"num_stopwords\"] = sar_acc[\"headline\"].apply(lambda x: len([w for w in str(x).lower().split() if w in STOPWORDS]))\n",
    "\n",
    "## Number of punctuations in the text ##\n",
    "sar_acc[\"num_punctuations\"] =sar_acc['headline'].apply(lambda x: len([c for c in str(x) if c in string.punctuation]) )\n",
    "\n",
    "## Number of title case words in the text ##\n",
    "sar_acc[\"num_words_upper\"] = sar_acc[\"headline\"].apply(lambda x: len([w for w in str(x).split() if w.isupper()]))\n",
    "\n",
    "## Number of title case words in the text ##\n",
    "sar_acc[\"num_words_title\"] = sar_acc[\"headline\"].apply(lambda x: len([w for w in str(x).split() if w.istitle()]))\n",
    "\n",
    "## Average length of the words in the text ##\n",
    "sar_acc[\"mean_word_len\"] = sar_acc[\"headline\"].apply(lambda x: np.mean([len(w) for w in str(x).split()]))"
   ]
  },
  {
   "cell_type": "code",
   "execution_count": 16,
   "metadata": {},
   "outputs": [
    {
     "name": "stderr",
     "output_type": "stream",
     "text": [
      "/home/ad/anaconda3/lib/python3.6/site-packages/pandas/core/indexing.py:190: SettingWithCopyWarning:\n",
      "\n",
      "\n",
      "A value is trying to be set on a copy of a slice from a DataFrame\n",
      "\n",
      "See the caveats in the documentation: http://pandas.pydata.org/pandas-docs/stable/indexing.html#indexing-view-versus-copy\n",
      "\n"
     ]
    },
    {
     "data": {
      "image/png": "[encoded data removed]",
      "text/plain": [
       "<Figure size 720x1440 with 3 Axes>"
      ]
     },
     "metadata": {
      "needs_background": "light"
     },
     "output_type": "display_data"
    }
   ],
   "source": [
    "## Truncate some extreme values for better visuals ##\n",
    "import matplotlib.pyplot as plt\n",
    "import seaborn as sns\n",
    "color = sns.color_palette()\n",
    "\n",
    "sar_acc['num_words'].loc[sar_acc['num_words']>60] = 60 #truncation for better visuals\n",
    "sar_acc['num_punctuations'].loc[sar_acc['num_punctuations']>10] = 10 #truncation for better visuals\n",
    "sar_acc['num_chars'].loc[sar_acc['num_chars']>350] = 350 #truncation for better visuals\n",
    "\n",
    "sar_acc['num_words'].loc[sar_acc['num_words']>60] = 60 #truncation for better visuals\n",
    "sar_acc['num_punctuations'].loc[sar_acc['num_punctuations']>10] = 10 #truncation for better visuals\n",
    "sar_acc['num_chars'].loc[sar_acc['num_chars']>350] = 350 #truncation for better visuals\n",
    "\n",
    "f, axes = plt.subplots(3, 1, figsize=(10,20))\n",
    "sns.boxplot(x='is_sarcastic', y='num_words', data=sar_acc, ax=axes[0])\n",
    "axes[0].set_xlabel('is_sarcastic', fontsize=12)\n",
    "axes[0].set_title(\"Number of words in each class\", fontsize=15)\n",
    "\n",
    "sns.boxplot(x='is_sarcastic', y='num_chars', data=sar_acc, ax=axes[1])\n",
    "axes[1].set_xlabel('is_sarcastic', fontsize=12)\n",
    "axes[1].set_title(\"Number of characters in each class\", fontsize=15)\n",
    "\n",
    "sns.boxplot(x='is_sarcastic', y='num_punctuations', data=sar_acc, ax=axes[2])\n",
    "axes[2].set_xlabel('is_sarcastic', fontsize=12)\n",
    "#plt.ylabel('Number of punctuations in text', fontsize=12)\n",
    "axes[2].set_title(\"Number of punctuations in each class\", fontsize=15)\n",
    "plt.show()"
   ]
  },
  {
   "cell_type": "code",
   "execution_count": 17,
   "metadata": {},
   "outputs": [],
   "source": [
    "#Getting X and Y ready\n",
    "from sklearn.preprocessing import LabelEncoder\n",
    "X = sar_acc.headline\n",
    "Y = sar_acc.is_sarcastic\n",
    "le = LabelEncoder()\n",
    "Y = le.fit_transform(Y)\n",
    "Y = Y.reshape(-1,1)"
   ]
  },
  {
   "cell_type": "code",
   "execution_count": 18,
   "metadata": {},
   "outputs": [],
   "source": [
    "from sklearn.model_selection import train_test_split\n",
    "X_train,X_test,Y_train,Y_test = train_test_split(X,Y,test_size=0.2)"
   ]
  },
  {
   "cell_type": "code",
   "execution_count": 19,
   "metadata": {},
   "outputs": [
    {
     "name": "stderr",
     "output_type": "stream",
     "text": [
      "Using TensorFlow backend.\n"
     ]
    }
   ],
   "source": [
    "from keras.preprocessing.text import Tokenizer\n",
    "from keras.preprocessing import sequence\n",
    "max_words = 1000\n",
    "max_len = 150\n",
    "tok = Tokenizer(num_words=max_words)\n",
    "tok.fit_on_texts(X_train)\n",
    "sequences = tok.texts_to_sequences(X_train)\n",
    "sequences_matrix = sequence.pad_sequences(sequences,maxlen=max_len)"
   ]
  },
  {
   "cell_type": "code",
   "execution_count": 20,
   "metadata": {},
   "outputs": [],
   "source": [
    "from keras.layers import LSTM, Activation, Dense, Dropout, Input, Embedding\n",
    "from keras.optimizers import RMSprop\n",
    "from keras.models import Model\n",
    "def RNN():\n",
    "    inputs = Input(name='inputs',shape=[max_len])\n",
    "    layer = Embedding(max_words,50,input_length=max_len)(inputs)\n",
    "    layer = LSTM(64)(layer)\n",
    "    layer = Dense(256,name='FC1')(layer)\n",
    "    layer = Activation('relu')(layer)\n",
    "    layer = Dropout(0.2)(layer)\n",
    "    layer = Dense(1,name='out_layer')(layer)\n",
    "    layer = Activation('sigmoid')(layer)\n",
    "    model = Model(inputs=inputs,outputs=layer)\n",
    "    return model"
   ]
  },
  {
   "cell_type": "code",
   "execution_count": 21,
   "metadata": {},
   "outputs": [
    {
     "name": "stdout",
     "output_type": "stream",
     "text": [
      "_________________________________________________________________\n",
      "Layer (type)                 Output Shape              Param #   \n",
      "=================================================================\n",
      "inputs (InputLayer)          (None, 150)               0         \n",
      "_________________________________________________________________\n",
      "embedding_1 (Embedding)      (None, 150, 50)           50000     \n",
      "_________________________________________________________________\n",
      "lstm_1 (LSTM)                (None, 64)                29440     \n",
      "_________________________________________________________________\n",
      "FC1 (Dense)                  (None, 256)               16640     \n",
      "_________________________________________________________________\n",
      "activation_1 (Activation)    (None, 256)               0         \n",
      "_________________________________________________________________\n",
      "dropout_1 (Dropout)          (None, 256)               0         \n",
      "_________________________________________________________________\n",
      "out_layer (Dense)            (None, 1)                 257       \n",
      "_________________________________________________________________\n",
      "activation_2 (Activation)    (None, 1)                 0         \n",
      "=================================================================\n",
      "Total params: 96,337\n",
      "Trainable params: 96,337\n",
      "Non-trainable params: 0\n",
      "_________________________________________________________________\n"
     ]
    }
   ],
   "source": [
    "model = RNN()\n",
    "model.summary()\n",
    "model.compile(loss='binary_crossentropy',optimizer=RMSprop(),metrics=['accuracy'])"
   ]
  },
  {
   "cell_type": "code",
   "execution_count": 25,
   "metadata": {},
   "outputs": [
    {
     "name": "stdout",
     "output_type": "stream",
     "text": [
      "Train on 19230 samples, validate on 2137 samples\n",
      "Epoch 1/10\n",
      "19230/19230 [==============================] - 133s 7ms/step - loss: 0.3201 - acc: 0.8586 - val_loss: 0.4109 - val_acc: 0.8152\n",
      "Epoch 2/10\n",
      "19230/19230 [==============================] - 136s 7ms/step - loss: 0.3116 - acc: 0.8640 - val_loss: 0.3971 - val_acc: 0.8175\n",
      "Epoch 3/10\n",
      "19230/19230 [==============================] - 141s 7ms/step - loss: 0.3063 - acc: 0.8670 - val_loss: 0.4170 - val_acc: 0.8142\n"
     ]
    },
    {
     "data": {
      "text/plain": [
       "<keras.callbacks.History at 0x7ff830240ac8>"
      ]
     },
     "execution_count": 25,
     "metadata": {},
     "output_type": "execute_result"
    }
   ],
   "source": [
    "from keras.callbacks import EarlyStopping\n",
    "model.fit(sequences_matrix,Y_train,batch_size=100,epochs=10,\n",
    "          validation_split=0.1,callbacks=[EarlyStopping(monitor='val_loss',min_delta=0.0001)])\n",
    "\n"
   ]
  },
  {
   "cell_type": "code",
   "execution_count": 26,
   "metadata": {},
   "outputs": [],
   "source": [
    "test_sequences = tok.texts_to_sequences(X_test)\n",
    "test_sequences_matrix = sequence.pad_sequences(test_sequences,maxlen=max_len)"
   ]
  },
  {
   "cell_type": "code",
   "execution_count": 27,
   "metadata": {},
   "outputs": [
    {
     "name": "stdout",
     "output_type": "stream",
     "text": [
      "5342/5342 [==============================] - 15s 3ms/step\n",
      "Test set\n",
      "  Loss: 0.400\n",
      "  Accuracy: 0.819\n"
     ]
    }
   ],
   "source": [
    "accr = model.evaluate(test_sequences_matrix,Y_test)\n",
    "print('Test set\\n  Loss: {:0.3f}\\n  Accuracy: {:0.3f}'.format(accr[0],accr[1]))"
   ]
  },
  {
   "cell_type": "code",
   "execution_count": null,
   "metadata": {},
   "outputs": [],
   "source": []
  }
 ],
 "metadata": {
  "kernelspec": {
   "display_name": "Python 3",
   "language": "python",
   "name": "python3"
  },
  "language_info": {
   "codemirror_mode": {
    "name": "ipython",
    "version": 3
   },
   "file_extension": ".py",
   "mimetype": "text/x-python",
   "name": "python",
   "nbconvert_exporter": "python",
   "pygments_lexer": "ipython3",
   "version": "3.6.9"
  }
 },
 "nbformat": 4,
 "nbformat_minor": 2
}
